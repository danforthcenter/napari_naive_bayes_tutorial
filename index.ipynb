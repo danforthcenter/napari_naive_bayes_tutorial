{
 "cells": [
  {
   "cell_type": "markdown",
   "id": "8a2ebfdd-b654-49f9-a045-ddd38466e050",
   "metadata": {},
   "source": [
    "# Template tutorial\n",
    "\n",
    "Description of tutorial"
   ]
  },
  {
   "cell_type": "code",
   "execution_count": null,
   "id": "032a5177-1c68-4a02-b9de-d67fe97bf60c",
   "metadata": {
    "tags": []
   },
   "outputs": [],
   "source": [
    "import os\n",
    "\n",
    "# Detect notebook environment\n",
    "def detect_notebook_environment():\n",
    "    if 'COLAB_GPU' in os.environ:\n",
    "        print('Google Colaboratory detected.')\n",
    "        %pip install \"altair>=5\" ipympl plantcv\n",
    "        \n",
    "        # Give access and mount your Google Drive (need a Google Account)\n",
    "        from google.colab import drive\n",
    "        drive.mount('/content/gdrive')\n",
    "        %cd '/content/gdrive/MyDrive/'\n",
    "\n",
    "        # Clone the GitHub repo to access to necessary files in the tutorial\n",
    "        # Replace TUT_NAME in the URL with the tutorial's name\n",
    "        !git clone https://github.com/danforthcenter/plantcv-tutorial-TUT_NAME.git\n",
    "        # Replace TUT_NAME\n",
    "        %cd './plantcv-tutorial-TUT_NAME/'\n",
    "        \n",
    "        # Enable widget feature with matplotlib\n",
    "        from google.colab import output\n",
    "        output.enable_custom_widget_manager()\n",
    "        \n",
    "        #View working directory, may need to change\n",
    "        %pwd\n",
    "    else:\n",
    "        print('Binder detected.')\n",
    "\n",
    "environment = detect_notebook_environment()"
   ]
  },
  {
   "cell_type": "code",
   "execution_count": null,
   "id": "e1712db7",
   "metadata": {
    "tags": []
   },
   "outputs": [],
   "source": [
    "# If working in Binder, widget may not be functioning\n",
    "# %matplotlib inline\n",
    "%matplotlib widget\n",
    "from plantcv import plantcv as pcv\n",
    "from plantcv.parallel import WorkflowInputs"
   ]
  },
  {
   "cell_type": "code",
   "execution_count": null,
   "id": "1e7e9b03",
   "metadata": {},
   "outputs": [],
   "source": [
    "# Input/output options\n",
    "args = WorkflowInputs(\n",
    "    images=[\"\"],\n",
    "    names=\"\",\n",
    "    result=\"\",\n",
    "    outdir=\".\",\n",
    "    writeimg=True,\n",
    "    debug=\"plot\"\n",
    "    )"
   ]
  },
  {
   "cell_type": "code",
   "execution_count": null,
   "id": "223254b4",
   "metadata": {},
   "outputs": [],
   "source": [
    "# Set debug to the global parameter \n",
    "pcv.params.debug = args.debug\n",
    "# Change display settings\n",
    "pcv.params.dpi = 100\n",
    "pcv.params.text_size = 20\n",
    "pcv.params.text_thickness = 20"
   ]
  },
  {
   "cell_type": "code",
   "execution_count": null,
   "id": "964f1012",
   "metadata": {},
   "outputs": [],
   "source": []
  }
 ],
 "metadata": {
  "kernelspec": {
   "display_name": "Python (PlantCV 4.0)",
   "language": "python",
   "name": "plantcv"
  },
  "language_info": {
   "codemirror_mode": {
    "name": "ipython",
    "version": 3
   },
   "file_extension": ".py",
   "mimetype": "text/x-python",
   "name": "python",
   "nbconvert_exporter": "python",
   "pygments_lexer": "ipython3",
   "version": "3.10.9"
  }
 },
 "nbformat": 4,
 "nbformat_minor": 5
}
